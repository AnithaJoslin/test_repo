{
 "cells": [
  {
   "cell_type": "code",
   "execution_count": 1,
   "id": "f9ce8fbe-a57d-49d8-aa96-dc2beb11b82f",
   "metadata": {},
   "outputs": [],
   "source": [
    "import numpy as np\n",
    "import pandas as pd\n",
    "\n",
    "import matplotlib.pyplot as plt\n",
    "import seaborn as sns\n",
    "\n",
    "from scipy.stats import chi2_contingency\n",
    "\n",
    "import itertools\n",
    "\n",
    "import copy"
   ]
  },
  {
   "cell_type": "code",
   "execution_count": 3,
   "id": "48feebd2-373b-4f2f-b798-8d73b846e9f5",
   "metadata": {},
   "outputs": [
    {
     "data": {
      "text/html": [
       "<div>\n",
       "<style scoped>\n",
       "    .dataframe tbody tr th:only-of-type {\n",
       "        vertical-align: middle;\n",
       "    }\n",
       "\n",
       "    .dataframe tbody tr th {\n",
       "        vertical-align: top;\n",
       "    }\n",
       "\n",
       "    .dataframe thead th {\n",
       "        text-align: right;\n",
       "    }\n",
       "</style>\n",
       "<table border=\"1\" class=\"dataframe\">\n",
       "  <thead>\n",
       "    <tr style=\"text-align: right;\">\n",
       "      <th></th>\n",
       "      <th>Loan_ID</th>\n",
       "      <th>Gender</th>\n",
       "      <th>Married</th>\n",
       "      <th>Dependents</th>\n",
       "      <th>Education</th>\n",
       "      <th>Self_Employed</th>\n",
       "      <th>ApplicantIncome</th>\n",
       "      <th>CoapplicantIncome</th>\n",
       "      <th>LoanAmount</th>\n",
       "      <th>Loan_Amount_Term</th>\n",
       "      <th>Credit_History</th>\n",
       "      <th>Property_Area</th>\n",
       "      <th>Loan_Status</th>\n",
       "    </tr>\n",
       "  </thead>\n",
       "  <tbody>\n",
       "    <tr>\n",
       "      <th>0</th>\n",
       "      <td>LP001002</td>\n",
       "      <td>Male</td>\n",
       "      <td>No</td>\n",
       "      <td>0</td>\n",
       "      <td>Graduate</td>\n",
       "      <td>No</td>\n",
       "      <td>5849</td>\n",
       "      <td>0.0</td>\n",
       "      <td>NaN</td>\n",
       "      <td>360.0</td>\n",
       "      <td>1.0</td>\n",
       "      <td>Urban</td>\n",
       "      <td>Y</td>\n",
       "    </tr>\n",
       "    <tr>\n",
       "      <th>1</th>\n",
       "      <td>LP001003</td>\n",
       "      <td>Male</td>\n",
       "      <td>Yes</td>\n",
       "      <td>1</td>\n",
       "      <td>Graduate</td>\n",
       "      <td>No</td>\n",
       "      <td>4583</td>\n",
       "      <td>1508.0</td>\n",
       "      <td>128.0</td>\n",
       "      <td>360.0</td>\n",
       "      <td>1.0</td>\n",
       "      <td>Rural</td>\n",
       "      <td>N</td>\n",
       "    </tr>\n",
       "    <tr>\n",
       "      <th>2</th>\n",
       "      <td>LP001005</td>\n",
       "      <td>Male</td>\n",
       "      <td>Yes</td>\n",
       "      <td>0</td>\n",
       "      <td>Graduate</td>\n",
       "      <td>Yes</td>\n",
       "      <td>3000</td>\n",
       "      <td>0.0</td>\n",
       "      <td>66.0</td>\n",
       "      <td>360.0</td>\n",
       "      <td>1.0</td>\n",
       "      <td>Urban</td>\n",
       "      <td>Y</td>\n",
       "    </tr>\n",
       "    <tr>\n",
       "      <th>3</th>\n",
       "      <td>LP001006</td>\n",
       "      <td>Male</td>\n",
       "      <td>Yes</td>\n",
       "      <td>0</td>\n",
       "      <td>Not Graduate</td>\n",
       "      <td>No</td>\n",
       "      <td>2583</td>\n",
       "      <td>2358.0</td>\n",
       "      <td>120.0</td>\n",
       "      <td>360.0</td>\n",
       "      <td>1.0</td>\n",
       "      <td>Urban</td>\n",
       "      <td>Y</td>\n",
       "    </tr>\n",
       "    <tr>\n",
       "      <th>4</th>\n",
       "      <td>LP001008</td>\n",
       "      <td>Male</td>\n",
       "      <td>No</td>\n",
       "      <td>0</td>\n",
       "      <td>Graduate</td>\n",
       "      <td>No</td>\n",
       "      <td>6000</td>\n",
       "      <td>0.0</td>\n",
       "      <td>141.0</td>\n",
       "      <td>360.0</td>\n",
       "      <td>1.0</td>\n",
       "      <td>Urban</td>\n",
       "      <td>Y</td>\n",
       "    </tr>\n",
       "  </tbody>\n",
       "</table>\n",
       "</div>"
      ],
      "text/plain": [
       "    Loan_ID Gender Married Dependents     Education Self_Employed  \\\n",
       "0  LP001002   Male      No          0      Graduate            No   \n",
       "1  LP001003   Male     Yes          1      Graduate            No   \n",
       "2  LP001005   Male     Yes          0      Graduate           Yes   \n",
       "3  LP001006   Male     Yes          0  Not Graduate            No   \n",
       "4  LP001008   Male      No          0      Graduate            No   \n",
       "\n",
       "   ApplicantIncome  CoapplicantIncome  LoanAmount  Loan_Amount_Term  \\\n",
       "0             5849                0.0         NaN             360.0   \n",
       "1             4583             1508.0       128.0             360.0   \n",
       "2             3000                0.0        66.0             360.0   \n",
       "3             2583             2358.0       120.0             360.0   \n",
       "4             6000                0.0       141.0             360.0   \n",
       "\n",
       "   Credit_History Property_Area Loan_Status  \n",
       "0             1.0         Urban           Y  \n",
       "1             1.0         Rural           N  \n",
       "2             1.0         Urban           Y  \n",
       "3             1.0         Urban           Y  \n",
       "4             1.0         Urban           Y  "
      ]
     },
     "execution_count": 3,
     "metadata": {},
     "output_type": "execute_result"
    }
   ],
   "source": [
    "data = pd.read_csv('Loan_Data.csv')\n",
    "data.head()"
   ]
  },
  {
   "cell_type": "code",
   "execution_count": 4,
   "id": "8301dea2-7256-43f2-8844-fdf61a6da72c",
   "metadata": {},
   "outputs": [
    {
     "data": {
      "text/plain": [
       "Loan_ID               0\n",
       "Gender               13\n",
       "Married               3\n",
       "Dependents           15\n",
       "Education             0\n",
       "Self_Employed        32\n",
       "ApplicantIncome       0\n",
       "CoapplicantIncome     0\n",
       "LoanAmount           22\n",
       "Loan_Amount_Term     14\n",
       "Credit_History       50\n",
       "Property_Area         0\n",
       "Loan_Status           0\n",
       "dtype: int64"
      ]
     },
     "execution_count": 4,
     "metadata": {},
     "output_type": "execute_result"
    }
   ],
   "source": [
    "data.isnull().sum()"
   ]
  },
  {
   "cell_type": "code",
   "execution_count": 5,
   "id": "0e03174d-6bb1-4986-9583-7db360f64bb4",
   "metadata": {},
   "outputs": [
    {
     "name": "stdout",
     "output_type": "stream",
     "text": [
      "<class 'pandas.core.frame.DataFrame'>\n",
      "RangeIndex: 614 entries, 0 to 613\n",
      "Data columns (total 13 columns):\n",
      " #   Column             Non-Null Count  Dtype  \n",
      "---  ------             --------------  -----  \n",
      " 0   Loan_ID            614 non-null    object \n",
      " 1   Gender             601 non-null    object \n",
      " 2   Married            611 non-null    object \n",
      " 3   Dependents         599 non-null    object \n",
      " 4   Education          614 non-null    object \n",
      " 5   Self_Employed      582 non-null    object \n",
      " 6   ApplicantIncome    614 non-null    int64  \n",
      " 7   CoapplicantIncome  614 non-null    float64\n",
      " 8   LoanAmount         592 non-null    float64\n",
      " 9   Loan_Amount_Term   600 non-null    float64\n",
      " 10  Credit_History     564 non-null    float64\n",
      " 11  Property_Area      614 non-null    object \n",
      " 12  Loan_Status        614 non-null    object \n",
      "dtypes: float64(4), int64(1), object(8)\n",
      "memory usage: 62.5+ KB\n"
     ]
    }
   ],
   "source": [
    "data.info()"
   ]
  },
  {
   "cell_type": "code",
   "execution_count": 6,
   "id": "512683ca-7581-4d70-9ae7-e3dffa4e2410",
   "metadata": {},
   "outputs": [
    {
     "data": {
      "text/html": [
       "<div>\n",
       "<style scoped>\n",
       "    .dataframe tbody tr th:only-of-type {\n",
       "        vertical-align: middle;\n",
       "    }\n",
       "\n",
       "    .dataframe tbody tr th {\n",
       "        vertical-align: top;\n",
       "    }\n",
       "\n",
       "    .dataframe thead th {\n",
       "        text-align: right;\n",
       "    }\n",
       "</style>\n",
       "<table border=\"1\" class=\"dataframe\">\n",
       "  <thead>\n",
       "    <tr style=\"text-align: right;\">\n",
       "      <th></th>\n",
       "      <th>ApplicantIncome</th>\n",
       "      <th>CoapplicantIncome</th>\n",
       "      <th>LoanAmount</th>\n",
       "      <th>Loan_Amount_Term</th>\n",
       "      <th>Credit_History</th>\n",
       "    </tr>\n",
       "  </thead>\n",
       "  <tbody>\n",
       "    <tr>\n",
       "      <th>count</th>\n",
       "      <td>614.000000</td>\n",
       "      <td>614.000000</td>\n",
       "      <td>592.000000</td>\n",
       "      <td>600.00000</td>\n",
       "      <td>564.000000</td>\n",
       "    </tr>\n",
       "    <tr>\n",
       "      <th>mean</th>\n",
       "      <td>5403.459283</td>\n",
       "      <td>1621.245798</td>\n",
       "      <td>146.412162</td>\n",
       "      <td>342.00000</td>\n",
       "      <td>0.842199</td>\n",
       "    </tr>\n",
       "    <tr>\n",
       "      <th>std</th>\n",
       "      <td>6109.041673</td>\n",
       "      <td>2926.248369</td>\n",
       "      <td>85.587325</td>\n",
       "      <td>65.12041</td>\n",
       "      <td>0.364878</td>\n",
       "    </tr>\n",
       "    <tr>\n",
       "      <th>min</th>\n",
       "      <td>150.000000</td>\n",
       "      <td>0.000000</td>\n",
       "      <td>9.000000</td>\n",
       "      <td>12.00000</td>\n",
       "      <td>0.000000</td>\n",
       "    </tr>\n",
       "    <tr>\n",
       "      <th>25%</th>\n",
       "      <td>2877.500000</td>\n",
       "      <td>0.000000</td>\n",
       "      <td>100.000000</td>\n",
       "      <td>360.00000</td>\n",
       "      <td>1.000000</td>\n",
       "    </tr>\n",
       "    <tr>\n",
       "      <th>50%</th>\n",
       "      <td>3812.500000</td>\n",
       "      <td>1188.500000</td>\n",
       "      <td>128.000000</td>\n",
       "      <td>360.00000</td>\n",
       "      <td>1.000000</td>\n",
       "    </tr>\n",
       "    <tr>\n",
       "      <th>75%</th>\n",
       "      <td>5795.000000</td>\n",
       "      <td>2297.250000</td>\n",
       "      <td>168.000000</td>\n",
       "      <td>360.00000</td>\n",
       "      <td>1.000000</td>\n",
       "    </tr>\n",
       "    <tr>\n",
       "      <th>max</th>\n",
       "      <td>81000.000000</td>\n",
       "      <td>41667.000000</td>\n",
       "      <td>700.000000</td>\n",
       "      <td>480.00000</td>\n",
       "      <td>1.000000</td>\n",
       "    </tr>\n",
       "  </tbody>\n",
       "</table>\n",
       "</div>"
      ],
      "text/plain": [
       "       ApplicantIncome  CoapplicantIncome  LoanAmount  Loan_Amount_Term  \\\n",
       "count       614.000000         614.000000  592.000000         600.00000   \n",
       "mean       5403.459283        1621.245798  146.412162         342.00000   \n",
       "std        6109.041673        2926.248369   85.587325          65.12041   \n",
       "min         150.000000           0.000000    9.000000          12.00000   \n",
       "25%        2877.500000           0.000000  100.000000         360.00000   \n",
       "50%        3812.500000        1188.500000  128.000000         360.00000   \n",
       "75%        5795.000000        2297.250000  168.000000         360.00000   \n",
       "max       81000.000000       41667.000000  700.000000         480.00000   \n",
       "\n",
       "       Credit_History  \n",
       "count      564.000000  \n",
       "mean         0.842199  \n",
       "std          0.364878  \n",
       "min          0.000000  \n",
       "25%          1.000000  \n",
       "50%          1.000000  \n",
       "75%          1.000000  \n",
       "max          1.000000  "
      ]
     },
     "execution_count": 6,
     "metadata": {},
     "output_type": "execute_result"
    }
   ],
   "source": [
    "data.describe()"
   ]
  },
  {
   "cell_type": "code",
   "execution_count": 7,
   "id": "36d396a8-6735-4430-b353-dc100b666750",
   "metadata": {},
   "outputs": [
    {
     "data": {
      "text/plain": [
       "Y    422\n",
       "N    192\n",
       "Name: Loan_Status, dtype: int64"
      ]
     },
     "execution_count": 7,
     "metadata": {},
     "output_type": "execute_result"
    }
   ],
   "source": [
    "data['Loan_Status'].value_counts()"
   ]
  },
  {
   "cell_type": "markdown",
   "id": "e6e712ee-1656-420f-bbec-a9c1853f8260",
   "metadata": {},
   "source": [
    "Data is skewed"
   ]
  },
  {
   "cell_type": "code",
   "execution_count": 8,
   "id": "49585d38-785a-4730-9b8e-b96dc5b52757",
   "metadata": {},
   "outputs": [
    {
     "data": {
      "text/plain": [
       "<AxesSubplot:xlabel='Dependents', ylabel='count'>"
      ]
     },
     "execution_count": 8,
     "metadata": {},
     "output_type": "execute_result"
    },
    {
     "data": {
      "image/png": "[encoded data removed]",
      "text/plain": [
       "<Figure size 432x288 with 1 Axes>"
      ]
     },
     "metadata": {
      "needs_background": "light"
     },
     "output_type": "display_data"
    }
   ],
   "source": [
    "sns.countplot(data = data, x = 'Dependents')"
   ]
  },
  {
   "cell_type": "code",
   "execution_count": 13,
   "id": "259c8f10",
   "metadata": {},
   "outputs": [
    {
     "data": {
      "text/plain": [
       "<AxesSubplot:xlabel='Dependents', ylabel='count'>"
      ]
     },
     "execution_count": 13,
     "metadata": {},
     "output_type": "execute_result"
    },
    {
     "data": {
      "image/png": "[encoded data removed]",
      "text/plain": [
       "<Figure size 432x288 with 1 Axes>"
      ]
     },
     "metadata": {
      "needs_background": "light"
     },
     "output_type": "display_data"
    }
   ],
   "source": [
    "sns.countplot(data = data, x = 'Dependents', hue = 'Loan_Status')"
   ]
  },
  {
   "cell_type": "markdown",
   "id": "9511b7ef-81ab-4049-b45b-38893ce441b3",
   "metadata": {},
   "source": [
    "### Number of Dependants and how it affects loan status"
   ]
  },
  {
   "cell_type": "code",
   "execution_count": 9,
   "id": "1771b9f0-a608-492d-955a-cc3925a7edc3",
   "metadata": {},
   "outputs": [
    {
     "data": {
      "text/html": [
       "<div>\n",
       "<style scoped>\n",
       "    .dataframe tbody tr th:only-of-type {\n",
       "        vertical-align: middle;\n",
       "    }\n",
       "\n",
       "    .dataframe tbody tr th {\n",
       "        vertical-align: top;\n",
       "    }\n",
       "\n",
       "    .dataframe thead tr th {\n",
       "        text-align: left;\n",
       "    }\n",
       "\n",
       "    .dataframe thead tr:last-of-type th {\n",
       "        text-align: right;\n",
       "    }\n",
       "</style>\n",
       "<table border=\"1\" class=\"dataframe\">\n",
       "  <thead>\n",
       "    <tr>\n",
       "      <th></th>\n",
       "      <th colspan=\"4\" halign=\"left\">Frequencies</th>\n",
       "    </tr>\n",
       "    <tr>\n",
       "      <th>Dependents</th>\n",
       "      <th>0</th>\n",
       "      <th>1</th>\n",
       "      <th>2</th>\n",
       "      <th>3+</th>\n",
       "    </tr>\n",
       "    <tr>\n",
       "      <th>Loan_Status</th>\n",
       "      <th></th>\n",
       "      <th></th>\n",
       "      <th></th>\n",
       "      <th></th>\n",
       "    </tr>\n",
       "  </thead>\n",
       "  <tbody>\n",
       "    <tr>\n",
       "      <th>N</th>\n",
       "      <td>107</td>\n",
       "      <td>36</td>\n",
       "      <td>25</td>\n",
       "      <td>18</td>\n",
       "    </tr>\n",
       "    <tr>\n",
       "      <th>Y</th>\n",
       "      <td>238</td>\n",
       "      <td>66</td>\n",
       "      <td>76</td>\n",
       "      <td>33</td>\n",
       "    </tr>\n",
       "  </tbody>\n",
       "</table>\n",
       "</div>"
      ],
      "text/plain": [
       "            Frequencies            \n",
       "Dependents            0   1   2  3+\n",
       "Loan_Status                        \n",
       "N                   107  36  25  18\n",
       "Y                   238  66  76  33"
      ]
     },
     "execution_count": 9,
     "metadata": {},
     "output_type": "execute_result"
    }
   ],
   "source": [
    "dep_status = data.groupby(['Dependents', 'Loan_Status']).size().reset_index().rename(columns={0: 'Frequencies'})\n",
    "dep_status = dep_status.pivot_table(index='Loan_Status', columns='Dependents')\n",
    "dep_status"
   ]
  },
  {
   "cell_type": "code",
   "execution_count": 10,
   "id": "72216456-464c-4c2c-99d5-d4c89a223f50",
   "metadata": {},
   "outputs": [
    {
     "data": {
      "text/plain": [
       "(3.158339770698263,\n",
       " 0.3678506740863211,\n",
       " 3,\n",
       " array([[107.12854758,  31.67278798,  31.36227045,  15.83639399],\n",
       "        [237.87145242,  70.32721202,  69.63772955,  35.16360601]]))"
      ]
     },
     "execution_count": 10,
     "metadata": {},
     "output_type": "execute_result"
    }
   ],
   "source": [
    "chi2_contingency(dep_status)"
   ]
  },
  {
   "cell_type": "markdown",
   "id": "62e6b0d8-271c-4e1a-aa83-628516f3e16d",
   "metadata": {},
   "source": [
    "Dependants does not affect the loan status"
   ]
  },
  {
   "cell_type": "markdown",
   "id": "06879f3c-470e-45e7-8fcc-97bb8fab385b",
   "metadata": {},
   "source": [
    "### Does gender affect the loan status?"
   ]
  },
  {
   "cell_type": "code",
   "execution_count": 11,
   "id": "e693ac8d-a117-43a1-ba88-cb8e236ec04a",
   "metadata": {},
   "outputs": [
    {
     "data": {
      "text/html": [
       "<div>\n",
       "<style scoped>\n",
       "    .dataframe tbody tr th:only-of-type {\n",
       "        vertical-align: middle;\n",
       "    }\n",
       "\n",
       "    .dataframe tbody tr th {\n",
       "        vertical-align: top;\n",
       "    }\n",
       "\n",
       "    .dataframe thead tr th {\n",
       "        text-align: left;\n",
       "    }\n",
       "\n",
       "    .dataframe thead tr:last-of-type th {\n",
       "        text-align: right;\n",
       "    }\n",
       "</style>\n",
       "<table border=\"1\" class=\"dataframe\">\n",
       "  <thead>\n",
       "    <tr>\n",
       "      <th></th>\n",
       "      <th colspan=\"2\" halign=\"left\">Frequencies</th>\n",
       "    </tr>\n",
       "    <tr>\n",
       "      <th>Gender</th>\n",
       "      <th>Female</th>\n",
       "      <th>Male</th>\n",
       "    </tr>\n",
       "    <tr>\n",
       "      <th>Loan_Status</th>\n",
       "      <th></th>\n",
       "      <th></th>\n",
       "    </tr>\n",
       "  </thead>\n",
       "  <tbody>\n",
       "    <tr>\n",
       "      <th>N</th>\n",
       "      <td>37</td>\n",
       "      <td>150</td>\n",
       "    </tr>\n",
       "    <tr>\n",
       "      <th>Y</th>\n",
       "      <td>75</td>\n",
       "      <td>339</td>\n",
       "    </tr>\n",
       "  </tbody>\n",
       "</table>\n",
       "</div>"
      ],
      "text/plain": [
       "            Frequencies     \n",
       "Gender           Female Male\n",
       "Loan_Status                 \n",
       "N                    37  150\n",
       "Y                    75  339"
      ]
     },
     "execution_count": 11,
     "metadata": {},
     "output_type": "execute_result"
    }
   ],
   "source": [
    "gen_status = data.groupby(['Gender', 'Loan_Status']).size().reset_index().rename(columns = {0: 'Frequencies'})\n",
    "gen_status = gen_status.pivot_table(index = 'Loan_Status', columns = 'Gender')\n",
    "gen_status"
   ]
  },
  {
   "cell_type": "code",
   "execution_count": 12,
   "id": "90f7176b-41a0-43d6-a1ed-2bff5366786d",
   "metadata": {},
   "outputs": [
    {
     "data": {
      "text/plain": [
       "(0.13962612116543877,\n",
       " 0.7086529816451106,\n",
       " 1,\n",
       " array([[ 34.84858569, 152.15141431],\n",
       "        [ 77.15141431, 336.84858569]]))"
      ]
     },
     "execution_count": 12,
     "metadata": {},
     "output_type": "execute_result"
    }
   ],
   "source": [
    "chi2_contingency(gen_status)"
   ]
  },
  {
   "cell_type": "markdown",
   "id": "c489637e-0ede-4471-95de-893d758ef0a7",
   "metadata": {},
   "source": [
    "The gender does not affect the loan status"
   ]
  },
  {
   "cell_type": "markdown",
   "id": "867702aa-0415-456f-8d36-b2f4de1ba6bc",
   "metadata": {
    "tags": []
   },
   "source": [
    "### Marraige and Loan Status"
   ]
  },
  {
   "cell_type": "code",
   "execution_count": 13,
   "id": "19f77b3b-904f-41b0-9538-1f947850883d",
   "metadata": {},
   "outputs": [
    {
     "data": {
      "text/html": [
       "<div>\n",
       "<style scoped>\n",
       "    .dataframe tbody tr th:only-of-type {\n",
       "        vertical-align: middle;\n",
       "    }\n",
       "\n",
       "    .dataframe tbody tr th {\n",
       "        vertical-align: top;\n",
       "    }\n",
       "\n",
       "    .dataframe thead tr th {\n",
       "        text-align: left;\n",
       "    }\n",
       "\n",
       "    .dataframe thead tr:last-of-type th {\n",
       "        text-align: right;\n",
       "    }\n",
       "</style>\n",
       "<table border=\"1\" class=\"dataframe\">\n",
       "  <thead>\n",
       "    <tr>\n",
       "      <th></th>\n",
       "      <th colspan=\"2\" halign=\"left\">Frequencies</th>\n",
       "    </tr>\n",
       "    <tr>\n",
       "      <th>Married</th>\n",
       "      <th>No</th>\n",
       "      <th>Yes</th>\n",
       "    </tr>\n",
       "    <tr>\n",
       "      <th>Loan_Status</th>\n",
       "      <th></th>\n",
       "      <th></th>\n",
       "    </tr>\n",
       "  </thead>\n",
       "  <tbody>\n",
       "    <tr>\n",
       "      <th>N</th>\n",
       "      <td>79</td>\n",
       "      <td>113</td>\n",
       "    </tr>\n",
       "    <tr>\n",
       "      <th>Y</th>\n",
       "      <td>134</td>\n",
       "      <td>285</td>\n",
       "    </tr>\n",
       "  </tbody>\n",
       "</table>\n",
       "</div>"
      ],
      "text/plain": [
       "            Frequencies     \n",
       "Married              No  Yes\n",
       "Loan_Status                 \n",
       "N                    79  113\n",
       "Y                   134  285"
      ]
     },
     "execution_count": 13,
     "metadata": {},
     "output_type": "execute_result"
    }
   ],
   "source": [
    "mar_status = data.groupby(['Loan_Status', 'Married']).size().reset_index().rename(columns = {0: 'Frequencies'})\n",
    "mar_status = mar_status.pivot_table(index = 'Loan_Status', columns = 'Married')\n",
    "mar_status"
   ]
  },
  {
   "cell_type": "code",
   "execution_count": 14,
   "id": "12cc2249-84be-40b5-911f-6056f32f0cd7",
   "metadata": {},
   "outputs": [
    {
     "data": {
      "text/plain": [
       "(4.475019348315097,\n",
       " 0.03439381301579988,\n",
       " 1,\n",
       " array([[ 66.93289689, 125.06710311],\n",
       "        [146.06710311, 272.93289689]]))"
      ]
     },
     "execution_count": 14,
     "metadata": {},
     "output_type": "execute_result"
    }
   ],
   "source": [
    "chi2_contingency(mar_status)"
   ]
  },
  {
   "cell_type": "code",
   "execution_count": 15,
   "id": "270fa08e-98c4-4233-8e86-0c9c009c3c13",
   "metadata": {},
   "outputs": [
    {
     "data": {
      "text/html": [
       "<div>\n",
       "<style scoped>\n",
       "    .dataframe tbody tr th:only-of-type {\n",
       "        vertical-align: middle;\n",
       "    }\n",
       "\n",
       "    .dataframe tbody tr th {\n",
       "        vertical-align: top;\n",
       "    }\n",
       "\n",
       "    .dataframe thead tr th {\n",
       "        text-align: left;\n",
       "    }\n",
       "\n",
       "    .dataframe thead tr:last-of-type th {\n",
       "        text-align: right;\n",
       "    }\n",
       "</style>\n",
       "<table border=\"1\" class=\"dataframe\">\n",
       "  <thead>\n",
       "    <tr>\n",
       "      <th></th>\n",
       "      <th colspan=\"2\" halign=\"left\">Frequencies</th>\n",
       "      <th>Sum</th>\n",
       "    </tr>\n",
       "    <tr>\n",
       "      <th>Married</th>\n",
       "      <th>No</th>\n",
       "      <th>Yes</th>\n",
       "      <th></th>\n",
       "    </tr>\n",
       "    <tr>\n",
       "      <th>Loan_Status</th>\n",
       "      <th></th>\n",
       "      <th></th>\n",
       "      <th></th>\n",
       "    </tr>\n",
       "  </thead>\n",
       "  <tbody>\n",
       "    <tr>\n",
       "      <th>N</th>\n",
       "      <td>41.145833</td>\n",
       "      <td>58.854167</td>\n",
       "      <td>192</td>\n",
       "    </tr>\n",
       "    <tr>\n",
       "      <th>Y</th>\n",
       "      <td>31.980907</td>\n",
       "      <td>68.019093</td>\n",
       "      <td>419</td>\n",
       "    </tr>\n",
       "  </tbody>\n",
       "</table>\n",
       "</div>"
      ],
      "text/plain": [
       "            Frequencies             Sum\n",
       "Married              No        Yes     \n",
       "Loan_Status                            \n",
       "N             41.145833  58.854167  192\n",
       "Y             31.980907  68.019093  419"
      ]
     },
     "execution_count": 15,
     "metadata": {},
     "output_type": "execute_result"
    }
   ],
   "source": [
    "mar_status['Sum'] = mar_status.sum(axis = 1)\n",
    "mar_status.iloc[0,0], mar_status.iloc[0,1] = mar_status.iloc[0,0]/mar_status.iloc[0,2] * 100, mar_status.iloc[0,1]/mar_status.iloc[0,2] * 100\n",
    "mar_status.iloc[1,0], mar_status.iloc[1,1] = mar_status.iloc[1,0]/mar_status.iloc[1,2] * 100, mar_status.iloc[1,1]/mar_status.iloc[1,2] * 100\n",
    "mar_status"
   ]
  },
  {
   "cell_type": "markdown",
   "id": "88bf3b79-73c8-43ef-93fa-448a334b584c",
   "metadata": {},
   "source": [
    "Being eligible for loan is affected by marital status. Married people are more likely to be eligble than unmarried people. <br>\n",
    "Inegibility of loan status however is not affected by marital status"
   ]
  },
  {
   "cell_type": "markdown",
   "id": "6ddb20fe-4532-4f1d-9a3d-5fef0b255c76",
   "metadata": {},
   "source": [
    "Marital Status does affect the loan status"
   ]
  },
  {
   "cell_type": "markdown",
   "id": "57162e16-8d17-4bd5-9933-7e561ede70e9",
   "metadata": {},
   "source": [
    "### Education and Loan Status"
   ]
  },
  {
   "cell_type": "code",
   "execution_count": 19,
   "id": "6c1b7246-c391-4364-8082-014e36ef7db3",
   "metadata": {},
   "outputs": [
    {
     "data": {
      "text/html": [
       "<div>\n",
       "<style scoped>\n",
       "    .dataframe tbody tr th:only-of-type {\n",
       "        vertical-align: middle;\n",
       "    }\n",
       "\n",
       "    .dataframe tbody tr th {\n",
       "        vertical-align: top;\n",
       "    }\n",
       "\n",
       "    .dataframe thead tr th {\n",
       "        text-align: left;\n",
       "    }\n",
       "\n",
       "    .dataframe thead tr:last-of-type th {\n",
       "        text-align: right;\n",
       "    }\n",
       "</style>\n",
       "<table border=\"1\" class=\"dataframe\">\n",
       "  <thead>\n",
       "    <tr>\n",
       "      <th></th>\n",
       "      <th colspan=\"2\" halign=\"left\">Frequencies</th>\n",
       "    </tr>\n",
       "    <tr>\n",
       "      <th>Education</th>\n",
       "      <th>Graduate</th>\n",
       "      <th>Not Graduate</th>\n",
       "    </tr>\n",
       "    <tr>\n",
       "      <th>Loan_Status</th>\n",
       "      <th></th>\n",
       "      <th></th>\n",
       "    </tr>\n",
       "  </thead>\n",
       "  <tbody>\n",
       "    <tr>\n",
       "      <th>N</th>\n",
       "      <td>140</td>\n",
       "      <td>52</td>\n",
       "    </tr>\n",
       "    <tr>\n",
       "      <th>Y</th>\n",
       "      <td>340</td>\n",
       "      <td>82</td>\n",
       "    </tr>\n",
       "  </tbody>\n",
       "</table>\n",
       "</div>"
      ],
      "text/plain": [
       "            Frequencies             \n",
       "Education      Graduate Not Graduate\n",
       "Loan_Status                         \n",
       "N                   140           52\n",
       "Y                   340           82"
      ]
     },
     "execution_count": 19,
     "metadata": {},
     "output_type": "execute_result"
    }
   ],
   "source": [
    "edu_status = data.groupby(['Loan_Status', 'Education']).size().reset_index().rename(columns = {0: 'Frequencies'})\n",
    "edu_status = edu_status.pivot_table(index = 'Loan_Status', columns = 'Education')\n",
    "edu_status"
   ]
  },
  {
   "cell_type": "code",
   "execution_count": 17,
   "id": "b5d05665-8acd-4db7-bdd1-e4ed8c1e2ed9",
   "metadata": {},
   "outputs": [
    {
     "data": {
      "text/plain": [
       "(4.091490413303621,\n",
       " 0.04309962129357355,\n",
       " 1,\n",
       " array([[150.09771987,  41.90228013],\n",
       "        [329.90228013,  92.09771987]]))"
      ]
     },
     "execution_count": 17,
     "metadata": {},
     "output_type": "execute_result"
    }
   ],
   "source": [
    "chi2_contingency(edu_status)"
   ]
  },
  {
   "cell_type": "markdown",
   "id": "b3bd3dfa-b58f-4291-8178-970008104fc8",
   "metadata": {},
   "source": [
    "Education does affect the loan status"
   ]
  },
  {
   "cell_type": "code",
   "execution_count": 18,
   "id": "e479d67a-339f-406f-879c-ee7a5a80f15f",
   "metadata": {},
   "outputs": [
    {
     "data": {
      "text/html": [
       "<div>\n",
       "<style scoped>\n",
       "    .dataframe tbody tr th:only-of-type {\n",
       "        vertical-align: middle;\n",
       "    }\n",
       "\n",
       "    .dataframe tbody tr th {\n",
       "        vertical-align: top;\n",
       "    }\n",
       "\n",
       "    .dataframe thead tr th {\n",
       "        text-align: left;\n",
       "    }\n",
       "\n",
       "    .dataframe thead tr:last-of-type th {\n",
       "        text-align: right;\n",
       "    }\n",
       "</style>\n",
       "<table border=\"1\" class=\"dataframe\">\n",
       "  <thead>\n",
       "    <tr>\n",
       "      <th></th>\n",
       "      <th colspan=\"2\" halign=\"left\">Frequencies</th>\n",
       "      <th>Sum</th>\n",
       "    </tr>\n",
       "    <tr>\n",
       "      <th>Education</th>\n",
       "      <th>Graduate</th>\n",
       "      <th>Not Graduate</th>\n",
       "      <th></th>\n",
       "    </tr>\n",
       "    <tr>\n",
       "      <th>Loan_Status</th>\n",
       "      <th></th>\n",
       "      <th></th>\n",
       "      <th></th>\n",
       "    </tr>\n",
       "  </thead>\n",
       "  <tbody>\n",
       "    <tr>\n",
       "      <th>N</th>\n",
       "      <td>72.916667</td>\n",
       "      <td>27.083333</td>\n",
       "      <td>192</td>\n",
       "    </tr>\n",
       "    <tr>\n",
       "      <th>Y</th>\n",
       "      <td>80.568720</td>\n",
       "      <td>19.431280</td>\n",
       "      <td>422</td>\n",
       "    </tr>\n",
       "  </tbody>\n",
       "</table>\n",
       "</div>"
      ],
      "text/plain": [
       "            Frequencies               Sum\n",
       "Education      Graduate Not Graduate     \n",
       "Loan_Status                              \n",
       "N             72.916667    27.083333  192\n",
       "Y             80.568720    19.431280  422"
      ]
     },
     "execution_count": 18,
     "metadata": {},
     "output_type": "execute_result"
    }
   ],
   "source": [
    "edu_status['Sum'] = edu_status.sum(axis = 1)\n",
    "edu_status.iloc[0,0], edu_status.iloc[0,1] = edu_status.iloc[0,0]/edu_status.iloc[0,2] * 100, edu_status.iloc[0,1]/edu_status.iloc[0,2] * 100\n",
    "edu_status.iloc[1,0], edu_status.iloc[1,1] = edu_status.iloc[1,0]/edu_status.iloc[1,2] * 100, edu_status.iloc[1,1]/edu_status.iloc[1,2] * 100\n",
    "edu_status"
   ]
  },
  {
   "cell_type": "markdown",
   "id": "13010762-cf50-4592-bdc8-3cca34519eab",
   "metadata": {},
   "source": [
    "For those whose loan status has been approved, a higher % are graduates when compared to for Loan status not approved status"
   ]
  },
  {
   "cell_type": "code",
   "execution_count": 20,
   "id": "6b80cf6d-f4b8-498f-baf5-9b1d4d5a4cc2",
   "metadata": {},
   "outputs": [
    {
     "data": {
      "text/html": [
       "<div>\n",
       "<style scoped>\n",
       "    .dataframe tbody tr th:only-of-type {\n",
       "        vertical-align: middle;\n",
       "    }\n",
       "\n",
       "    .dataframe tbody tr th {\n",
       "        vertical-align: top;\n",
       "    }\n",
       "\n",
       "    .dataframe thead tr th {\n",
       "        text-align: left;\n",
       "    }\n",
       "\n",
       "    .dataframe thead tr:last-of-type th {\n",
       "        text-align: right;\n",
       "    }\n",
       "</style>\n",
       "<table border=\"1\" class=\"dataframe\">\n",
       "  <thead>\n",
       "    <tr>\n",
       "      <th></th>\n",
       "      <th colspan=\"2\" halign=\"left\">Frequencies</th>\n",
       "    </tr>\n",
       "    <tr>\n",
       "      <th>Education</th>\n",
       "      <th>Graduate</th>\n",
       "      <th>Not Graduate</th>\n",
       "    </tr>\n",
       "    <tr>\n",
       "      <th>Loan_Status</th>\n",
       "      <th></th>\n",
       "      <th></th>\n",
       "    </tr>\n",
       "  </thead>\n",
       "  <tbody>\n",
       "    <tr>\n",
       "      <th>N</th>\n",
       "      <td>29.166667</td>\n",
       "      <td>38.80597</td>\n",
       "    </tr>\n",
       "    <tr>\n",
       "      <th>Y</th>\n",
       "      <td>70.833333</td>\n",
       "      <td>61.19403</td>\n",
       "    </tr>\n",
       "    <tr>\n",
       "      <th>Sum</th>\n",
       "      <td>480.000000</td>\n",
       "      <td>134.00000</td>\n",
       "    </tr>\n",
       "  </tbody>\n",
       "</table>\n",
       "</div>"
      ],
      "text/plain": [
       "            Frequencies             \n",
       "Education      Graduate Not Graduate\n",
       "Loan_Status                         \n",
       "N             29.166667     38.80597\n",
       "Y             70.833333     61.19403\n",
       "Sum          480.000000    134.00000"
      ]
     },
     "execution_count": 20,
     "metadata": {},
     "output_type": "execute_result"
    }
   ],
   "source": [
    "edu_status.loc['Sum', : ] = edu_status.sum()\n",
    "edu_status.iloc[0,0], edu_status.iloc[1,0] = edu_status.iloc[0,0]/edu_status.iloc[2,0] * 100, edu_status.iloc[1,0]/edu_status.iloc[2,0] * 100\n",
    "edu_status.iloc[0,1], edu_status.iloc[1,1] = edu_status.iloc[0,1]/edu_status.iloc[2,1] * 100, edu_status.iloc[1,1]/edu_status.iloc[2,1] * 100\n",
    "edu_status"
   ]
  },
  {
   "cell_type": "markdown",
   "id": "16313dfc-6718-479a-bd1a-1ababdbc6538",
   "metadata": {},
   "source": [
    "### Self Employeed and Loan Status"
   ]
  },
  {
   "cell_type": "code",
   "execution_count": 72,
   "id": "e8f2ee55-298a-4a3b-a3ca-bac93990cb3e",
   "metadata": {},
   "outputs": [
    {
     "data": {
      "text/html": [
       "<div>\n",
       "<style scoped>\n",
       "    .dataframe tbody tr th:only-of-type {\n",
       "        vertical-align: middle;\n",
       "    }\n",
       "\n",
       "    .dataframe tbody tr th {\n",
       "        vertical-align: top;\n",
       "    }\n",
       "\n",
       "    .dataframe thead tr th {\n",
       "        text-align: left;\n",
       "    }\n",
       "\n",
       "    .dataframe thead tr:last-of-type th {\n",
       "        text-align: right;\n",
       "    }\n",
       "</style>\n",
       "<table border=\"1\" class=\"dataframe\">\n",
       "  <thead>\n",
       "    <tr>\n",
       "      <th></th>\n",
       "      <th colspan=\"2\" halign=\"left\">Frequencies</th>\n",
       "    </tr>\n",
       "    <tr>\n",
       "      <th>Self_Employed</th>\n",
       "      <th>No</th>\n",
       "      <th>Yes</th>\n",
       "    </tr>\n",
       "    <tr>\n",
       "      <th>Loan_Status</th>\n",
       "      <th></th>\n",
       "      <th></th>\n",
       "    </tr>\n",
       "  </thead>\n",
       "  <tbody>\n",
       "    <tr>\n",
       "      <th>N</th>\n",
       "      <td>157</td>\n",
       "      <td>26</td>\n",
       "    </tr>\n",
       "    <tr>\n",
       "      <th>Y</th>\n",
       "      <td>343</td>\n",
       "      <td>56</td>\n",
       "    </tr>\n",
       "  </tbody>\n",
       "</table>\n",
       "</div>"
      ],
      "text/plain": [
       "              Frequencies    \n",
       "Self_Employed          No Yes\n",
       "Loan_Status                  \n",
       "N                     157  26\n",
       "Y                     343  56"
      ]
     },
     "execution_count": 72,
     "metadata": {},
     "output_type": "execute_result"
    }
   ],
   "source": [
    "emp_status = data.groupby(['Loan_Status', 'Self_Employed']).size().reset_index().rename(columns = {0: 'Frequencies'})\n",
    "emp_status = emp_status.pivot_table(index = 'Loan_Status', columns = 'Self_Employed')\n",
    "emp_status"
   ]
  },
  {
   "cell_type": "code",
   "execution_count": 18,
   "id": "dc3525be-3334-4480-aebb-2996f00ba6a7",
   "metadata": {},
   "outputs": [
    {
     "data": {
      "text/plain": [
       "(0.0,\n",
       " 1.0,\n",
       " 1,\n",
       " array([[157.21649485,  25.78350515],\n",
       "        [342.78350515,  56.21649485]]))"
      ]
     },
     "execution_count": 18,
     "metadata": {},
     "output_type": "execute_result"
    }
   ],
   "source": [
    "chi2_contingency(emp_status)"
   ]
  },
  {
   "cell_type": "code",
   "execution_count": 73,
   "id": "29776b5e-4e9f-4b54-8058-51483c87e7c0",
   "metadata": {},
   "outputs": [
    {
     "data": {
      "text/html": [
       "<div>\n",
       "<style scoped>\n",
       "    .dataframe tbody tr th:only-of-type {\n",
       "        vertical-align: middle;\n",
       "    }\n",
       "\n",
       "    .dataframe tbody tr th {\n",
       "        vertical-align: top;\n",
       "    }\n",
       "\n",
       "    .dataframe thead tr th {\n",
       "        text-align: left;\n",
       "    }\n",
       "\n",
       "    .dataframe thead tr:last-of-type th {\n",
       "        text-align: right;\n",
       "    }\n",
       "</style>\n",
       "<table border=\"1\" class=\"dataframe\">\n",
       "  <thead>\n",
       "    <tr>\n",
       "      <th></th>\n",
       "      <th colspan=\"2\" halign=\"left\">Frequencies</th>\n",
       "      <th>Sum</th>\n",
       "    </tr>\n",
       "    <tr>\n",
       "      <th>Self_Employed</th>\n",
       "      <th>No</th>\n",
       "      <th>Yes</th>\n",
       "      <th></th>\n",
       "    </tr>\n",
       "    <tr>\n",
       "      <th>Loan_Status</th>\n",
       "      <th></th>\n",
       "      <th></th>\n",
       "      <th></th>\n",
       "    </tr>\n",
       "  </thead>\n",
       "  <tbody>\n",
       "    <tr>\n",
       "      <th>N</th>\n",
       "      <td>85.792350</td>\n",
       "      <td>14.207650</td>\n",
       "      <td>183</td>\n",
       "    </tr>\n",
       "    <tr>\n",
       "      <th>Y</th>\n",
       "      <td>85.964912</td>\n",
       "      <td>14.035088</td>\n",
       "      <td>399</td>\n",
       "    </tr>\n",
       "  </tbody>\n",
       "</table>\n",
       "</div>"
      ],
      "text/plain": [
       "              Frequencies             Sum\n",
       "Self_Employed          No        Yes     \n",
       "Loan_Status                              \n",
       "N               85.792350  14.207650  183\n",
       "Y               85.964912  14.035088  399"
      ]
     },
     "execution_count": 73,
     "metadata": {},
     "output_type": "execute_result"
    }
   ],
   "source": [
    "emp_status['Sum'] = emp_status.sum(axis = 1)\n",
    "emp_status.iloc[0,0], emp_status.iloc[0,1] = emp_status.iloc[0,0]/emp_status.iloc[0,2] * 100, emp_status.iloc[0,1]/emp_status.iloc[0,2] * 100\n",
    "emp_status.iloc[1,0], emp_status.iloc[1,1] = emp_status.iloc[1,0]/emp_status.iloc[1,2] * 100, emp_status.iloc[1,1]/emp_status.iloc[1,2] * 100\n",
    "emp_status"
   ]
  },
  {
   "cell_type": "code",
   "execution_count": 71,
   "id": "5f34a8c4-596d-4a60-9e7d-b6c3791190e4",
   "metadata": {},
   "outputs": [
    {
     "data": {
      "text/html": [
       "<div>\n",
       "<style scoped>\n",
       "    .dataframe tbody tr th:only-of-type {\n",
       "        vertical-align: middle;\n",
       "    }\n",
       "\n",
       "    .dataframe tbody tr th {\n",
       "        vertical-align: top;\n",
       "    }\n",
       "\n",
       "    .dataframe thead tr th {\n",
       "        text-align: left;\n",
       "    }\n",
       "\n",
       "    .dataframe thead tr:last-of-type th {\n",
       "        text-align: right;\n",
       "    }\n",
       "</style>\n",
       "<table border=\"1\" class=\"dataframe\">\n",
       "  <thead>\n",
       "    <tr>\n",
       "      <th></th>\n",
       "      <th colspan=\"2\" halign=\"left\">Frequencies</th>\n",
       "    </tr>\n",
       "    <tr>\n",
       "      <th>Self_Employed</th>\n",
       "      <th>No</th>\n",
       "      <th>Yes</th>\n",
       "    </tr>\n",
       "    <tr>\n",
       "      <th>Loan_Status</th>\n",
       "      <th></th>\n",
       "      <th></th>\n",
       "    </tr>\n",
       "  </thead>\n",
       "  <tbody>\n",
       "    <tr>\n",
       "      <th>N</th>\n",
       "      <td>31.4</td>\n",
       "      <td>31.707317</td>\n",
       "    </tr>\n",
       "    <tr>\n",
       "      <th>Y</th>\n",
       "      <td>68.6</td>\n",
       "      <td>68.292683</td>\n",
       "    </tr>\n",
       "    <tr>\n",
       "      <th>Sum</th>\n",
       "      <td>500.0</td>\n",
       "      <td>82.000000</td>\n",
       "    </tr>\n",
       "  </tbody>\n",
       "</table>\n",
       "</div>"
      ],
      "text/plain": [
       "              Frequencies           \n",
       "Self_Employed          No        Yes\n",
       "Loan_Status                         \n",
       "N                    31.4  31.707317\n",
       "Y                    68.6  68.292683\n",
       "Sum                 500.0  82.000000"
      ]
     },
     "execution_count": 71,
     "metadata": {},
     "output_type": "execute_result"
    }
   ],
   "source": [
    "emp_status.loc['Sum', : ] = emp_status.sum()\n",
    "emp_status.iloc[0,0], emp_status.iloc[1,0] = emp_status.iloc[0,0]/emp_status.iloc[2,0] * 100, emp_status.iloc[1,0]/emp_status.iloc[2,0] * 100\n",
    "emp_status.iloc[0,1], emp_status.iloc[1,1] = emp_status.iloc[0,1]/emp_status.iloc[2,1] * 100, emp_status.iloc[1,1]/emp_status.iloc[2,1] * 100\n",
    "emp_status"
   ]
  },
  {
   "cell_type": "markdown",
   "id": "d4a1c6e1-45d3-439b-b238-72e073038f46",
   "metadata": {},
   "source": [
    "### Property Area and Loan Status"
   ]
  },
  {
   "cell_type": "code",
   "execution_count": 75,
   "id": "13b9d761-5a39-4ba3-93cf-9cd125355c93",
   "metadata": {},
   "outputs": [
    {
     "data": {
      "text/html": [
       "<div>\n",
       "<style scoped>\n",
       "    .dataframe tbody tr th:only-of-type {\n",
       "        vertical-align: middle;\n",
       "    }\n",
       "\n",
       "    .dataframe tbody tr th {\n",
       "        vertical-align: top;\n",
       "    }\n",
       "\n",
       "    .dataframe thead tr th {\n",
       "        text-align: left;\n",
       "    }\n",
       "\n",
       "    .dataframe thead tr:last-of-type th {\n",
       "        text-align: right;\n",
       "    }\n",
       "</style>\n",
       "<table border=\"1\" class=\"dataframe\">\n",
       "  <thead>\n",
       "    <tr>\n",
       "      <th></th>\n",
       "      <th colspan=\"3\" halign=\"left\">Frequencies</th>\n",
       "    </tr>\n",
       "    <tr>\n",
       "      <th>Property_Area</th>\n",
       "      <th>Rural</th>\n",
       "      <th>Semiurban</th>\n",
       "      <th>Urban</th>\n",
       "    </tr>\n",
       "    <tr>\n",
       "      <th>Loan_Status</th>\n",
       "      <th></th>\n",
       "      <th></th>\n",
       "      <th></th>\n",
       "    </tr>\n",
       "  </thead>\n",
       "  <tbody>\n",
       "    <tr>\n",
       "      <th>N</th>\n",
       "      <td>69</td>\n",
       "      <td>54</td>\n",
       "      <td>69</td>\n",
       "    </tr>\n",
       "    <tr>\n",
       "      <th>Y</th>\n",
       "      <td>110</td>\n",
       "      <td>179</td>\n",
       "      <td>133</td>\n",
       "    </tr>\n",
       "  </tbody>\n",
       "</table>\n",
       "</div>"
      ],
      "text/plain": [
       "              Frequencies                \n",
       "Property_Area       Rural Semiurban Urban\n",
       "Loan_Status                              \n",
       "N                      69        54    69\n",
       "Y                     110       179   133"
      ]
     },
     "execution_count": 75,
     "metadata": {},
     "output_type": "execute_result"
    }
   ],
   "source": [
    "prop_area_status = data.groupby(['Loan_Status', 'Property_Area']).size().reset_index().rename(columns = {0: 'Frequencies'})\n",
    "prop_area_status = prop_area_status.pivot_table(index = 'Loan_Status', columns = 'Property_Area')\n",
    "prop_area_status"
   ]
  },
  {
   "cell_type": "code",
   "execution_count": 20,
   "id": "1d6f0d99-ac41-4354-a570-26d18314d5e5",
   "metadata": {},
   "outputs": [
    {
     "data": {
      "text/plain": [
       "(12.297623130485677,\n",
       " 0.0021360187811644915,\n",
       " 2,\n",
       " array([[ 55.97394137,  72.85993485,  63.16612378],\n",
       "        [123.02605863, 160.14006515, 138.83387622]]))"
      ]
     },
     "execution_count": 20,
     "metadata": {},
     "output_type": "execute_result"
    }
   ],
   "source": [
    "chi2_contingency(prop_area_status)"
   ]
  },
  {
   "cell_type": "markdown",
   "id": "9f950864-3e2b-44cf-a7ba-b3f5e958e2ae",
   "metadata": {},
   "source": [
    "Marraige, Educaion, Self-Employed and Property Area does affect the loan status"
   ]
  },
  {
   "cell_type": "code",
   "execution_count": 77,
   "id": "6baad314-870f-4356-855b-6107c981574c",
   "metadata": {},
   "outputs": [
    {
     "data": {
      "text/html": [
       "<div>\n",
       "<style scoped>\n",
       "    .dataframe tbody tr th:only-of-type {\n",
       "        vertical-align: middle;\n",
       "    }\n",
       "\n",
       "    .dataframe tbody tr th {\n",
       "        vertical-align: top;\n",
       "    }\n",
       "\n",
       "    .dataframe thead tr th {\n",
       "        text-align: left;\n",
       "    }\n",
       "\n",
       "    .dataframe thead tr:last-of-type th {\n",
       "        text-align: right;\n",
       "    }\n",
       "</style>\n",
       "<table border=\"1\" class=\"dataframe\">\n",
       "  <thead>\n",
       "    <tr>\n",
       "      <th></th>\n",
       "      <th colspan=\"3\" halign=\"left\">Frequencies</th>\n",
       "      <th>Sum</th>\n",
       "    </tr>\n",
       "    <tr>\n",
       "      <th>Property_Area</th>\n",
       "      <th>Rural</th>\n",
       "      <th>Semiurban</th>\n",
       "      <th>Urban</th>\n",
       "      <th></th>\n",
       "    </tr>\n",
       "    <tr>\n",
       "      <th>Loan_Status</th>\n",
       "      <th></th>\n",
       "      <th></th>\n",
       "      <th></th>\n",
       "      <th></th>\n",
       "    </tr>\n",
       "  </thead>\n",
       "  <tbody>\n",
       "    <tr>\n",
       "      <th>N</th>\n",
       "      <td>35.937500</td>\n",
       "      <td>28.125000</td>\n",
       "      <td>35.937500</td>\n",
       "      <td>192</td>\n",
       "    </tr>\n",
       "    <tr>\n",
       "      <th>Y</th>\n",
       "      <td>26.066351</td>\n",
       "      <td>42.417062</td>\n",
       "      <td>31.516588</td>\n",
       "      <td>422</td>\n",
       "    </tr>\n",
       "  </tbody>\n",
       "</table>\n",
       "</div>"
      ],
      "text/plain": [
       "              Frequencies                        Sum\n",
       "Property_Area       Rural  Semiurban      Urban     \n",
       "Loan_Status                                         \n",
       "N               35.937500  28.125000  35.937500  192\n",
       "Y               26.066351  42.417062  31.516588  422"
      ]
     },
     "execution_count": 77,
     "metadata": {},
     "output_type": "execute_result"
    }
   ],
   "source": [
    "prop_area_status['Sum'] = prop_area_status.sum(axis = 1)\n",
    "prop_area_status.iloc[0,0], prop_area_status.iloc[0,1], prop_area_status.iloc[0,2] = prop_area_status.iloc[0,0]/prop_area_status.iloc[0,3] * 100, prop_area_status.iloc[0,1]/prop_area_status.iloc[0,3] * 100, prop_area_status.iloc[0,2]/prop_area_status.iloc[0,3] * 100\n",
    "prop_area_status.iloc[1,0], prop_area_status.iloc[1,1], prop_area_status.iloc[1,2] = prop_area_status.iloc[1,0]/prop_area_status.iloc[1,3] * 100, prop_area_status.iloc[1,1]/prop_area_status.iloc[1,3] * 100, prop_area_status.iloc[1,2]/prop_area_status.iloc[1,3] * 100\n",
    "prop_area_status"
   ]
  },
  {
   "cell_type": "markdown",
   "id": "2dccae07-4e78-4ea4-b242-b544cbde5762",
   "metadata": {},
   "source": [
    "42% of loan status applicable is for semiurban"
   ]
  },
  {
   "cell_type": "markdown",
   "id": "59d0bd0b-a5fe-4d42-9d67-b5429c24e526",
   "metadata": {},
   "source": [
    "## Numerical Columns and Loan Status"
   ]
  },
  {
   "cell_type": "code",
   "execution_count": 21,
   "id": "8dda29d5-ae5b-40fd-b625-6e748e83cf98",
   "metadata": {},
   "outputs": [
    {
     "data": {
      "text/plain": [
       "Index(['ApplicantIncome', 'CoapplicantIncome', 'LoanAmount',\n",
       "       'Loan_Amount_Term', 'Credit_History'],\n",
       "      dtype='object')"
      ]
     },
     "execution_count": 21,
     "metadata": {},
     "output_type": "execute_result"
    }
   ],
   "source": [
    "data.select_dtypes(exclude='object').columns"
   ]
  },
  {
   "cell_type": "code",
   "execution_count": 22,
   "id": "f3a90cad-acbf-42cd-95d3-3070de471a49",
   "metadata": {},
   "outputs": [
    {
     "data": {
      "text/plain": [
       "<AxesSubplot:xlabel='Loan_Status', ylabel='ApplicantIncome'>"
      ]
     },
     "execution_count": 22,
     "metadata": {},
     "output_type": "execute_result"
    },
    {
     "data": {
      "image/png": "[encoded data removed]",
      "text/plain": [
       "<Figure size 640x480 with 1 Axes>"
      ]
     },
     "metadata": {},
     "output_type": "display_data"
    }
   ],
   "source": [
    "sns.violinplot(data=data, x = 'Loan_Status', y = 'ApplicantIncome')"
   ]
  },
  {
   "cell_type": "code",
   "execution_count": 23,
   "id": "377547e7-dc86-4cd6-83d6-6b58ce17c6f3",
   "metadata": {},
   "outputs": [
    {
     "data": {
      "text/plain": [
       "<AxesSubplot:xlabel='Loan_Status', ylabel='CoapplicantIncome'>"
      ]
     },
     "execution_count": 23,
     "metadata": {},
     "output_type": "execute_result"
    },
    {
     "data": {
      "image/png": "[encoded data removed]",
      "text/plain": [
       "<Figure size 640x480 with 1 Axes>"
      ]
     },
     "metadata": {},
     "output_type": "display_data"
    }
   ],
   "source": [
    "sns.violinplot(data=data, x = 'Loan_Status', y = 'CoapplicantIncome')"
   ]
  },
  {
   "cell_type": "code",
   "execution_count": 24,
   "id": "1def934f-fc7d-4755-b2cc-0a870163b97c",
   "metadata": {},
   "outputs": [
    {
     "data": {
      "text/plain": [
       "<AxesSubplot:xlabel='Loan_Status', ylabel='LoanAmount'>"
      ]
     },
     "execution_count": 24,
     "metadata": {},
     "output_type": "execute_result"
    },
    {
     "data": {
      "image/png": "[encoded data removed]",
      "text/plain": [
       "<Figure size 640x480 with 1 Axes>"
      ]
     },
     "metadata": {},
     "output_type": "display_data"
    }
   ],
   "source": [
    "sns.violinplot(data=data, x = 'Loan_Status', y = 'LoanAmount')"
   ]
  },
  {
   "cell_type": "code",
   "execution_count": 26,
   "id": "c9bdf79c-2652-4a3b-b882-492baab212f2",
   "metadata": {},
   "outputs": [
    {
     "data": {
      "text/plain": [
       "<AxesSubplot:xlabel='Loan_Status', ylabel='Loan_Amount_Term'>"
      ]
     },
     "execution_count": 26,
     "metadata": {},
     "output_type": "execute_result"
    },
    {
     "data": {
      "image/png": "[encoded data removed]",
      "text/plain": [
       "<Figure size 640x480 with 1 Axes>"
      ]
     },
     "metadata": {},
     "output_type": "display_data"
    }
   ],
   "source": [
    "sns.violinplot(data=data, x = 'Loan_Status', y = 'Loan_Amount_Term')"
   ]
  },
  {
   "cell_type": "code",
   "execution_count": 27,
   "id": "aaf8d121-c0d6-4338-8986-52ffeea50821",
   "metadata": {},
   "outputs": [
    {
     "data": {
      "text/plain": [
       "<AxesSubplot:xlabel='Loan_Status', ylabel='Credit_History'>"
      ]
     },
     "execution_count": 27,
     "metadata": {},
     "output_type": "execute_result"
    },
    {
     "data": {
      "image/png": "[encoded data removed]",
      "text/plain": [
       "<Figure size 640x480 with 1 Axes>"
      ]
     },
     "metadata": {},
     "output_type": "display_data"
    }
   ],
   "source": [
    "sns.violinplot(data=data, x = 'Loan_Status', y = 'Credit_History')"
   ]
  },
  {
   "cell_type": "code",
   "execution_count": null,
   "id": "e086034e-0424-4c42-a3db-f8381ba892d6",
   "metadata": {},
   "outputs": [],
   "source": []
  },
  {
   "cell_type": "code",
   "execution_count": null,
   "id": "3c042082-b78c-4bd3-a107-26fbc98fdcc2",
   "metadata": {},
   "outputs": [],
   "source": []
  },
  {
   "cell_type": "code",
   "execution_count": null,
   "id": "62666978-7719-403a-904e-e6cae97c3eb5",
   "metadata": {},
   "outputs": [],
   "source": []
  },
  {
   "cell_type": "markdown",
   "id": "33a4a969-e24d-4dc3-aede-ea4373079c5b",
   "metadata": {
    "tags": []
   },
   "source": [
    "### Let's check how the dependant variables affect each other"
   ]
  },
  {
   "cell_type": "code",
   "execution_count": 30,
   "id": "fc90efc2-502f-42dd-80a0-f14d7eeb3ee8",
   "metadata": {},
   "outputs": [],
   "source": [
    "X = copy.deepcopy(data)\n",
    "y = X.pop('Loan_Status')"
   ]
  },
  {
   "cell_type": "code",
   "execution_count": 32,
   "id": "2f8fe18a-ba8f-4352-8d65-f1db8db58157",
   "metadata": {},
   "outputs": [
    {
     "data": {
      "text/html": [
       "<div>\n",
       "<style scoped>\n",
       "    .dataframe tbody tr th:only-of-type {\n",
       "        vertical-align: middle;\n",
       "    }\n",
       "\n",
       "    .dataframe tbody tr th {\n",
       "        vertical-align: top;\n",
       "    }\n",
       "\n",
       "    .dataframe thead th {\n",
       "        text-align: right;\n",
       "    }\n",
       "</style>\n",
       "<table border=\"1\" class=\"dataframe\">\n",
       "  <thead>\n",
       "    <tr style=\"text-align: right;\">\n",
       "      <th></th>\n",
       "      <th>Gender</th>\n",
       "      <th>Married</th>\n",
       "      <th>Dependents</th>\n",
       "      <th>Education</th>\n",
       "      <th>Self_Employed</th>\n",
       "      <th>Property_Area</th>\n",
       "    </tr>\n",
       "    <tr>\n",
       "      <th>Loan_ID</th>\n",
       "      <th></th>\n",
       "      <th></th>\n",
       "      <th></th>\n",
       "      <th></th>\n",
       "      <th></th>\n",
       "      <th></th>\n",
       "    </tr>\n",
       "  </thead>\n",
       "  <tbody>\n",
       "    <tr>\n",
       "      <th>LP001002</th>\n",
       "      <td>Male</td>\n",
       "      <td>No</td>\n",
       "      <td>0</td>\n",
       "      <td>Graduate</td>\n",
       "      <td>No</td>\n",
       "      <td>Urban</td>\n",
       "    </tr>\n",
       "    <tr>\n",
       "      <th>LP001003</th>\n",
       "      <td>Male</td>\n",
       "      <td>Yes</td>\n",
       "      <td>1</td>\n",
       "      <td>Graduate</td>\n",
       "      <td>No</td>\n",
       "      <td>Rural</td>\n",
       "    </tr>\n",
       "  </tbody>\n",
       "</table>\n",
       "</div>"
      ],
      "text/plain": [
       "         Gender Married Dependents Education Self_Employed Property_Area\n",
       "Loan_ID                                                                 \n",
       "LP001002   Male      No          0  Graduate            No         Urban\n",
       "LP001003   Male     Yes          1  Graduate            No         Rural"
      ]
     },
     "execution_count": 32,
     "metadata": {},
     "output_type": "execute_result"
    }
   ],
   "source": [
    "cat_df = X.select_dtypes('object')\n",
    "cat_df.set_index('Loan_ID', drop = True, inplace = True)\n",
    "cat_df.head(2)"
   ]
  },
  {
   "cell_type": "code",
   "execution_count": 33,
   "id": "4f5b9735-adb8-46ad-9141-fbbe6c9b2140",
   "metadata": {},
   "outputs": [
    {
     "name": "stdout",
     "output_type": "stream",
     "text": [
      "('Gender', 'Married') has p-value 4.3247055472659236e-19 and is therefore interdependant\n",
      "('Gender', 'Dependents') has p-value 0.0002409880921169245 and is therefore interdependant\n",
      "('Gender', 'Property_Area') has p-value 0.018023173625175064 and is therefore interdependant\n",
      "('Married', 'Dependents') has p-value 1.1785811086969576e-17 and is therefore interdependant\n"
     ]
    }
   ],
   "source": [
    "cols = cat_df.columns\n",
    "combs = list(itertools.combinations(cols, 2))\n",
    "for comb in combs:\n",
    "    cat1_df = X.groupby([comb[0], comb[1]]).size().reset_index().rename(columns = {0: 'Frequencies'})\n",
    "    cat1_df = cat1_df.pivot_table(index = comb[0], columns = comb[1])\n",
    "    if chi2_contingency(cat1_df)[1] < 0.05:\n",
    "        print(f'{comb} has p-value {chi2_contingency(cat1_df)[1]} and is therefore interdependant')"
   ]
  },
  {
   "cell_type": "code",
   "execution_count": 53,
   "id": "f6c49c8d-2735-4160-a49d-f86eebdad82c",
   "metadata": {},
   "outputs": [
    {
     "data": {
      "text/html": [
       "<div>\n",
       "<style scoped>\n",
       "    .dataframe tbody tr th:only-of-type {\n",
       "        vertical-align: middle;\n",
       "    }\n",
       "\n",
       "    .dataframe tbody tr th {\n",
       "        vertical-align: top;\n",
       "    }\n",
       "\n",
       "    .dataframe thead tr th {\n",
       "        text-align: left;\n",
       "    }\n",
       "\n",
       "    .dataframe thead tr:last-of-type th {\n",
       "        text-align: right;\n",
       "    }\n",
       "</style>\n",
       "<table border=\"1\" class=\"dataframe\">\n",
       "  <thead>\n",
       "    <tr>\n",
       "      <th></th>\n",
       "      <th colspan=\"2\" halign=\"left\">Frequencies</th>\n",
       "      <th>Sum</th>\n",
       "    </tr>\n",
       "    <tr>\n",
       "      <th>Married</th>\n",
       "      <th>No</th>\n",
       "      <th>Yes</th>\n",
       "      <th></th>\n",
       "    </tr>\n",
       "    <tr>\n",
       "      <th>Gender</th>\n",
       "      <th></th>\n",
       "      <th></th>\n",
       "      <th></th>\n",
       "    </tr>\n",
       "  </thead>\n",
       "  <tbody>\n",
       "    <tr>\n",
       "      <th>Female</th>\n",
       "      <td>72.072072</td>\n",
       "      <td>27.927928</td>\n",
       "      <td>111.0</td>\n",
       "    </tr>\n",
       "    <tr>\n",
       "      <th>Male</th>\n",
       "      <td>26.694045</td>\n",
       "      <td>73.305955</td>\n",
       "      <td>487.0</td>\n",
       "    </tr>\n",
       "    <tr>\n",
       "      <th>Sum, :</th>\n",
       "      <td>210.000000</td>\n",
       "      <td>388.000000</td>\n",
       "      <td>NaN</td>\n",
       "    </tr>\n",
       "  </tbody>\n",
       "</table>\n",
       "</div>"
      ],
      "text/plain": [
       "        Frequencies                Sum\n",
       "Married          No         Yes       \n",
       "Gender                                \n",
       "Female    72.072072   27.927928  111.0\n",
       "Male      26.694045   73.305955  487.0\n",
       "Sum, :   210.000000  388.000000    NaN"
      ]
     },
     "execution_count": 53,
     "metadata": {},
     "output_type": "execute_result"
    }
   ],
   "source": [
    "cat1_df = cat_df.groupby(['Gender', 'Married']).size().reset_index().rename(columns = {0: 'Frequencies'})\n",
    "cat1_df = cat1_df.pivot_table(index = 'Gender', columns = 'Married')\n",
    "cat1_df['Sum'], cat1_df.loc['Sum, :'] = cat1_df.sum(axis = 1), cat1_df.sum()\n",
    "cat1_df.iloc[0,0], cat1_df.iloc[0,1] = (cat1_df.iloc[0,0]/cat1_df.iloc[0,2]) * 100, (cat1_df.iloc[0,1]/cat1_df.iloc[0,2]) * 100\n",
    "cat1_df.iloc[1,0], cat1_df.iloc[1,1] = (cat1_df.iloc[1,0]/cat1_df.iloc[1,2]) * 100, (cat1_df.iloc[1,1]/cat1_df.iloc[1,2]) * 100\n",
    "cat1_df"
   ]
  },
  {
   "cell_type": "markdown",
   "id": "796e1875-d532-4968-b017-43475435e5e8",
   "metadata": {},
   "source": [
    "More % of women are unmarried (72%) and more % of men are married (73%)"
   ]
  },
  {
   "cell_type": "code",
   "execution_count": 82,
   "id": "e93541a1-7264-45e7-b5f7-fdb0ebec7d71",
   "metadata": {},
   "outputs": [
    {
     "data": {
      "text/html": [
       "<div>\n",
       "<style scoped>\n",
       "    .dataframe tbody tr th:only-of-type {\n",
       "        vertical-align: middle;\n",
       "    }\n",
       "\n",
       "    .dataframe tbody tr th {\n",
       "        vertical-align: top;\n",
       "    }\n",
       "\n",
       "    .dataframe thead tr th {\n",
       "        text-align: left;\n",
       "    }\n",
       "\n",
       "    .dataframe thead tr:last-of-type th {\n",
       "        text-align: right;\n",
       "    }\n",
       "</style>\n",
       "<table border=\"1\" class=\"dataframe\">\n",
       "  <thead>\n",
       "    <tr>\n",
       "      <th></th>\n",
       "      <th colspan=\"4\" halign=\"left\">Frequencies</th>\n",
       "      <th>Sum</th>\n",
       "    </tr>\n",
       "    <tr>\n",
       "      <th>Dependents</th>\n",
       "      <th>0</th>\n",
       "      <th>1</th>\n",
       "      <th>2</th>\n",
       "      <th>3+</th>\n",
       "      <th></th>\n",
       "    </tr>\n",
       "    <tr>\n",
       "      <th>Gender</th>\n",
       "      <th></th>\n",
       "      <th></th>\n",
       "      <th></th>\n",
       "      <th></th>\n",
       "      <th></th>\n",
       "    </tr>\n",
       "  </thead>\n",
       "  <tbody>\n",
       "    <tr>\n",
       "      <th>Female</th>\n",
       "      <td>73.394495</td>\n",
       "      <td>17.431193</td>\n",
       "      <td>6.422018</td>\n",
       "      <td>2.752294</td>\n",
       "      <td>109.0</td>\n",
       "    </tr>\n",
       "    <tr>\n",
       "      <th>Male</th>\n",
       "      <td>54.088050</td>\n",
       "      <td>17.190776</td>\n",
       "      <td>19.287212</td>\n",
       "      <td>9.433962</td>\n",
       "      <td>477.0</td>\n",
       "    </tr>\n",
       "    <tr>\n",
       "      <th>Sum, :</th>\n",
       "      <td>338.000000</td>\n",
       "      <td>101.000000</td>\n",
       "      <td>99.000000</td>\n",
       "      <td>48.000000</td>\n",
       "      <td>NaN</td>\n",
       "    </tr>\n",
       "  </tbody>\n",
       "</table>\n",
       "</div>"
      ],
      "text/plain": [
       "           Frequencies                                      Sum\n",
       "Dependents           0           1          2         3+       \n",
       "Gender                                                         \n",
       "Female       73.394495   17.431193   6.422018   2.752294  109.0\n",
       "Male         54.088050   17.190776  19.287212   9.433962  477.0\n",
       "Sum, :      338.000000  101.000000  99.000000  48.000000    NaN"
      ]
     },
     "execution_count": 82,
     "metadata": {},
     "output_type": "execute_result"
    }
   ],
   "source": [
    "cat1_df = cat_df.groupby(['Gender', 'Dependents']).size().reset_index().rename(columns = {0: 'Frequencies'})\n",
    "cat1_df = cat1_df.pivot_table(index = 'Gender', columns = 'Dependents')\n",
    "cat1_df['Sum'], cat1_df.loc['Sum, :'] = cat1_df.sum(axis = 1), cat1_df.sum()\n",
    "cat1_df.iloc[0,0], cat1_df.iloc[0,1], cat1_df.iloc[0,2], cat1_df.iloc[0,3] = (cat1_df.iloc[0,0]/cat1_df.iloc[0,4]) * 100, (cat1_df.iloc[0,1]/cat1_df.iloc[0,4]) * 100, (cat1_df.iloc[0,2]/cat1_df.iloc[0,4]) * 100, (cat1_df.iloc[0,3]/cat1_df.iloc[0,4]) * 100\n",
    "cat1_df.iloc[1,0], cat1_df.iloc[1,1], cat1_df.iloc[1,2], cat1_df.iloc[1,3] = (cat1_df.iloc[1,0]/cat1_df.iloc[1,4]) * 100, (cat1_df.iloc[1,1]/cat1_df.iloc[1,4]) * 100, (cat1_df.iloc[1,2]/cat1_df.iloc[1,4]) * 100, (cat1_df.iloc[1,3]/cat1_df.iloc[1,4]) * 100\n",
    "cat1_df"
   ]
  },
  {
   "cell_type": "code",
   "execution_count": 84,
   "id": "878bb740-537e-4962-a773-359318fb369d",
   "metadata": {},
   "outputs": [
    {
     "data": {
      "text/html": [
       "<div>\n",
       "<style scoped>\n",
       "    .dataframe tbody tr th:only-of-type {\n",
       "        vertical-align: middle;\n",
       "    }\n",
       "\n",
       "    .dataframe tbody tr th {\n",
       "        vertical-align: top;\n",
       "    }\n",
       "\n",
       "    .dataframe thead tr th {\n",
       "        text-align: left;\n",
       "    }\n",
       "\n",
       "    .dataframe thead tr:last-of-type th {\n",
       "        text-align: right;\n",
       "    }\n",
       "</style>\n",
       "<table border=\"1\" class=\"dataframe\">\n",
       "  <thead>\n",
       "    <tr>\n",
       "      <th></th>\n",
       "      <th colspan=\"3\" halign=\"left\">Frequencies</th>\n",
       "      <th>Sum</th>\n",
       "    </tr>\n",
       "    <tr>\n",
       "      <th>Property_Area</th>\n",
       "      <th>Rural</th>\n",
       "      <th>Semiurban</th>\n",
       "      <th>Urban</th>\n",
       "      <th></th>\n",
       "    </tr>\n",
       "    <tr>\n",
       "      <th>Gender</th>\n",
       "      <th></th>\n",
       "      <th></th>\n",
       "      <th></th>\n",
       "      <th></th>\n",
       "    </tr>\n",
       "  </thead>\n",
       "  <tbody>\n",
       "    <tr>\n",
       "      <th>Female</th>\n",
       "      <td>21.428571</td>\n",
       "      <td>49.107143</td>\n",
       "      <td>29.464286</td>\n",
       "      <td>112.0</td>\n",
       "    </tr>\n",
       "    <tr>\n",
       "      <th>Male</th>\n",
       "      <td>30.879346</td>\n",
       "      <td>35.173824</td>\n",
       "      <td>33.946830</td>\n",
       "      <td>489.0</td>\n",
       "    </tr>\n",
       "    <tr>\n",
       "      <th>Sum, :</th>\n",
       "      <td>175.000000</td>\n",
       "      <td>227.000000</td>\n",
       "      <td>199.000000</td>\n",
       "      <td>NaN</td>\n",
       "    </tr>\n",
       "  </tbody>\n",
       "</table>\n",
       "</div>"
      ],
      "text/plain": [
       "              Frequencies                            Sum\n",
       "Property_Area       Rural   Semiurban       Urban       \n",
       "Gender                                                  \n",
       "Female          21.428571   49.107143   29.464286  112.0\n",
       "Male            30.879346   35.173824   33.946830  489.0\n",
       "Sum, :         175.000000  227.000000  199.000000    NaN"
      ]
     },
     "execution_count": 84,
     "metadata": {},
     "output_type": "execute_result"
    }
   ],
   "source": [
    "cat1_df = cat_df.groupby(['Gender', 'Property_Area']).size().reset_index().rename(columns = {0: 'Frequencies'})\n",
    "cat1_df = cat1_df.pivot_table(index = 'Gender', columns = 'Property_Area')\n",
    "cat1_df['Sum'], cat1_df.loc['Sum, :'] = cat1_df.sum(axis = 1), cat1_df.sum()\n",
    "cat1_df.iloc[0,0], cat1_df.iloc[0,1], cat1_df.iloc[0,2] = (cat1_df.iloc[0,0]/cat1_df.iloc[0,3]) * 100, (cat1_df.iloc[0,1]/cat1_df.iloc[0,3]) * 100, (cat1_df.iloc[0,2]/cat1_df.iloc[0,3]) * 100\n",
    "cat1_df.iloc[1,0], cat1_df.iloc[1,1], cat1_df.iloc[1,2] = (cat1_df.iloc[1,0]/cat1_df.iloc[1,3]) * 100, (cat1_df.iloc[1,1]/cat1_df.iloc[1,3]) * 100, (cat1_df.iloc[1,2]/cat1_df.iloc[1,3]) * 100\n",
    "cat1_df"
   ]
  },
  {
   "cell_type": "code",
   "execution_count": 85,
   "id": "c825b014-6d99-4dee-9fd1-20620f5ace9f",
   "metadata": {},
   "outputs": [
    {
     "data": {
      "text/html": [
       "<div>\n",
       "<style scoped>\n",
       "    .dataframe tbody tr th:only-of-type {\n",
       "        vertical-align: middle;\n",
       "    }\n",
       "\n",
       "    .dataframe tbody tr th {\n",
       "        vertical-align: top;\n",
       "    }\n",
       "\n",
       "    .dataframe thead tr th {\n",
       "        text-align: left;\n",
       "    }\n",
       "\n",
       "    .dataframe thead tr:last-of-type th {\n",
       "        text-align: right;\n",
       "    }\n",
       "</style>\n",
       "<table border=\"1\" class=\"dataframe\">\n",
       "  <thead>\n",
       "    <tr>\n",
       "      <th></th>\n",
       "      <th colspan=\"4\" halign=\"left\">Frequencies</th>\n",
       "      <th>Sum</th>\n",
       "    </tr>\n",
       "    <tr>\n",
       "      <th>Dependents</th>\n",
       "      <th>0</th>\n",
       "      <th>1</th>\n",
       "      <th>2</th>\n",
       "      <th>3+</th>\n",
       "      <th></th>\n",
       "    </tr>\n",
       "    <tr>\n",
       "      <th>Married</th>\n",
       "      <th></th>\n",
       "      <th></th>\n",
       "      <th></th>\n",
       "      <th></th>\n",
       "      <th></th>\n",
       "    </tr>\n",
       "  </thead>\n",
       "  <tbody>\n",
       "    <tr>\n",
       "      <th>No</th>\n",
       "      <td>81.818182</td>\n",
       "      <td>11.004785</td>\n",
       "      <td>3.827751</td>\n",
       "      <td>3.349282</td>\n",
       "      <td>209.0</td>\n",
       "    </tr>\n",
       "    <tr>\n",
       "      <th>Yes</th>\n",
       "      <td>44.615385</td>\n",
       "      <td>20.256410</td>\n",
       "      <td>23.846154</td>\n",
       "      <td>11.282051</td>\n",
       "      <td>390.0</td>\n",
       "    </tr>\n",
       "    <tr>\n",
       "      <th>Sum, :</th>\n",
       "      <td>345.000000</td>\n",
       "      <td>102.000000</td>\n",
       "      <td>101.000000</td>\n",
       "      <td>51.000000</td>\n",
       "      <td>NaN</td>\n",
       "    </tr>\n",
       "  </tbody>\n",
       "</table>\n",
       "</div>"
      ],
      "text/plain": [
       "           Frequencies                                       Sum\n",
       "Dependents           0           1           2         3+       \n",
       "Married                                                         \n",
       "No           81.818182   11.004785    3.827751   3.349282  209.0\n",
       "Yes          44.615385   20.256410   23.846154  11.282051  390.0\n",
       "Sum, :      345.000000  102.000000  101.000000  51.000000    NaN"
      ]
     },
     "execution_count": 85,
     "metadata": {},
     "output_type": "execute_result"
    }
   ],
   "source": [
    "cat1_df = cat_df.groupby(['Married', 'Dependents']).size().reset_index().rename(columns = {0: 'Frequencies'})\n",
    "cat1_df = cat1_df.pivot_table(index = 'Married', columns = 'Dependents')\n",
    "cat1_df['Sum'], cat1_df.loc['Sum, :'] = cat1_df.sum(axis = 1), cat1_df.sum()\n",
    "cat1_df.iloc[0,0], cat1_df.iloc[0,1], cat1_df.iloc[0,2], cat1_df.iloc[0,3] = (cat1_df.iloc[0,0]/cat1_df.iloc[0,4]) * 100, (cat1_df.iloc[0,1]/cat1_df.iloc[0,4]) * 100, (cat1_df.iloc[0,2]/cat1_df.iloc[0,4]) * 100, (cat1_df.iloc[0,3]/cat1_df.iloc[0,4]) * 100\n",
    "cat1_df.iloc[1,0], cat1_df.iloc[1,1], cat1_df.iloc[1,2], cat1_df.iloc[1,3] = (cat1_df.iloc[1,0]/cat1_df.iloc[1,4]) * 100, (cat1_df.iloc[1,1]/cat1_df.iloc[1,4]) * 100, (cat1_df.iloc[1,2]/cat1_df.iloc[1,4]) * 100, (cat1_df.iloc[1,3]/cat1_df.iloc[1,4]) * 100\n",
    "cat1_df"
   ]
  },
  {
   "cell_type": "markdown",
   "id": "e89a8362-8e2f-431a-985c-e00f787250e0",
   "metadata": {},
   "source": [
    "As expected the breakdown for non-married people has the largest % with no dependants at 81%. But what is unexpected is that the 0 dependents is the largest % for married people as well though at a smaller %."
   ]
  },
  {
   "cell_type": "code",
   "execution_count": 35,
   "id": "8997a46f-07ab-46b1-857e-831311e388eb",
   "metadata": {},
   "outputs": [
    {
     "data": {
      "text/plain": [
       "<AxesSubplot:>"
      ]
     },
     "execution_count": 35,
     "metadata": {},
     "output_type": "execute_result"
    },
    {
     "data": {
      "image/png": "[encoded data removed]",
      "text/plain": [
       "<Figure size 640x480 with 2 Axes>"
      ]
     },
     "metadata": {},
     "output_type": "display_data"
    }
   ],
   "source": [
    "num_df = X.select_dtypes(exclude='object')\n",
    "num_corr = num_df.corr()\n",
    "sns.heatmap(num_corr, annot=True)"
   ]
  },
  {
   "cell_type": "code",
   "execution_count": null,
   "id": "2be57349-843f-4423-83d1-0ca07fe99c26",
   "metadata": {},
   "outputs": [],
   "source": []
  }
 ],
 "metadata": {
  "kernelspec": {
   "display_name": "slides_env",
   "language": "python",
   "name": "python3"
  },
  "language_info": {
   "codemirror_mode": {
    "name": "ipython",
    "version": 3
   },
   "file_extension": ".py",
   "mimetype": "text/x-python",
   "name": "python",
   "nbconvert_exporter": "python",
   "pygments_lexer": "ipython3",
   "version": "3.9.12"
  },
  "vscode": {
   "interpreter": {
    "hash": "b23854417e547ffdbc5893561841f0bed2c1347cd5bcc545c8ace8eb3f549f89"
   }
  }
 },
 "nbformat": 4,
 "nbformat_minor": 5
}
